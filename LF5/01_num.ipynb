{
 "cells": [
  {
   "cell_type": "raw",
   "id": "479858ed-d1b4-40a7-b40d-8af45a0b0c74",
   "metadata": {},
   "source": [
    "Programm, was das Prinzip der Datentypen begreiflich macht"
   ]
  },
  {
   "cell_type": "code",
   "execution_count": 1,
   "id": "90d208d8-7671-470e-8251-f1e9825ff1ec",
   "metadata": {},
   "outputs": [],
   "source": [
    "import math #Mathe-Bibliothek einbinden"
   ]
  },
  {
   "cell_type": "code",
   "execution_count": 2,
   "id": "e6368e88-4d80-4103-b22c-7b35b8534cee",
   "metadata": {},
   "outputs": [
    {
     "name": "stdout",
     "output_type": "stream",
     "text": [
      "---numerische Datentypen---\n",
      "Dezimal: 27\n",
      "Hexzahl: 0x1b\n",
      "Oktalzahl: 0o33\n",
      "Binärzahl: 0b11011\n",
      "0x1a + 12 + 0b101 + 0o67 =  98\n"
     ]
    }
   ],
   "source": [
    "print(\"---numerische Datentypen---\");\n",
    "zahl = 27;\n",
    "print(\"Dezimal:\",zahl);\n",
    "print(\"Hexzahl:\",hex(zahl));\n",
    "print(\"Oktalzahl:\",oct(zahl));\n",
    "print(\"Binärzahl:\",bin(zahl));\n",
    "summe = 0x1a + 12 + 0b101 + 0o67;\n",
    "print(\"0x1a + 12 + 0b101 + 0o67 = \",summe);"
   ]
  },
  {
   "cell_type": "code",
   "execution_count": 3,
   "id": "93ae1bd1-0158-4578-86dd-12cf91b37af9",
   "metadata": {},
   "outputs": [
    {
     "name": "stdout",
     "output_type": "stream",
     "text": [
      "\n",
      "---Fließkommazahlen---\n",
      "a = 7.5 Zahl: 7.5\n",
      "b = 2e2 Zahl: 200.0\n",
      "c = 3.5e3 Zahl: 3500.0\n",
      "d = 4.2e-3 Zahl: 0.0042\n",
      "e = 1_250_000.500_001 Zahl: 1250000.500001\n"
     ]
    }
   ],
   "source": [
    "print(\"\\n---Fließkommazahlen---\");\n",
    "a = 7.5;\n",
    "b = 2e2;\n",
    "c = 3.5e3;\n",
    "d = 4.2e-3;\n",
    "e = 1_250_000.500_001;\n",
    "print(\"a = 7.5\",\"Zahl:\",a);\n",
    "print(\"b = 2e2\",\"Zahl:\",b);\n",
    "print(\"c = 3.5e3\",\"Zahl:\",c);\n",
    "print(\"d = 4.2e-3\",\"Zahl:\",d);\n",
    "print(\"e = 1_250_000.500_001\",\"Zahl:\",e);"
   ]
  },
  {
   "cell_type": "code",
   "execution_count": 4,
   "id": "fd699265-d3e6-4460-8972-0776dcb87260",
   "metadata": {},
   "outputs": [
    {
     "name": "stdout",
     "output_type": "stream",
     "text": [
      "\n",
      "---DT ermitteln---\n",
      "f = 2 DT von f: <class 'int'>\n",
      "g = 12/6 DT von g: <class 'float'>\n",
      "h = 12/7 DT von h: <class 'float'>\n",
      "i = 12%6 = 0 DT von i: <class 'int'>\n",
      "j = 12%3.4 = 1.8000000000000003 DT von j: <class 'float'>\n",
      "k = 14//4.5 = 3.0 DT von k: <class 'float'>\n",
      "l = 14//4 = 3 DT von l: <class 'int'>\n"
     ]
    }
   ],
   "source": [
    "#DT\n",
    "print(\"\\n---DT ermitteln---\");\n",
    "f = 2;\n",
    "g = 12/6;\n",
    "h = 12/7;\n",
    "i = 12%6;    #Restrechnung\n",
    "j = 12%3.4;  #Restrechnung\n",
    "k = 14//4.5; #Ganzzahldivision\n",
    "l = 14//4;   #Ganzzahldivision\n",
    "print(\"f = 2\",\"DT von f:\",type(f));\n",
    "print(\"g = 12/6\",\"DT von g:\",type(g));\n",
    "print(\"h = 12/7\",\"DT von h:\",type(h));\n",
    "print(\"i = 12%6 =\",i,\"DT von i:\",type(i));\n",
    "print(\"j = 12%3.4 =\",j,\"DT von j:\",type(j));\n",
    "print(\"k = 14//4.5 =\",k,\"DT von k:\",type(k));\n",
    "print(\"l = 14//4 =\",l,\"DT von l:\",type(l));"
   ]
  },
  {
   "cell_type": "code",
   "execution_count": 5,
   "id": "02985ab1-62e9-45bf-a13a-aba08e77dc39",
   "metadata": {},
   "outputs": [
    {
     "name": "stdout",
     "output_type": "stream",
     "text": [
      "\n",
      "---Potenzrechnung---\n",
      "p1 = 5 ** 3 = 125 DT von p1: <class 'int'>\n",
      "p2 = 5.2 ** 3 = 140.608 DT von p2: <class 'float'>\n",
      "p3 = -5.2 ** 3 = -140.608 DT von p3: <class 'float'>\n",
      "p4 = 5.2 ** 3.8 = 525.7904646699526 DT von p4: <class 'float'>\n"
     ]
    }
   ],
   "source": [
    "#Potenzrechnung\n",
    "print(\"\\n---Potenzrechnung---\");\n",
    "p1 = 5 ** 3;\n",
    "p2 = 5.2 ** 3;\n",
    "p3 = -5.2 ** 3;\n",
    "p4 = 5.2 ** 3.8;\n",
    "print(\"p1 = 5 ** 3 =\",p1,\"DT von p1:\",type(p1));\n",
    "print(\"p2 = 5.2 ** 3 =\",p2,\"DT von p2:\",type(p2));\n",
    "print(\"p3 = -5.2 ** 3 =\",p3,\"DT von p3:\",type(p3));\n",
    "print(\"p4 = 5.2 ** 3.8 =\",p4,\"DT von p4:\",type(p4));"
   ]
  },
  {
   "cell_type": "code",
   "execution_count": 6,
   "id": "62efacf5-d0c6-4fec-a9bc-01ebbc167969",
   "metadata": {},
   "outputs": [
    {
     "name": "stdout",
     "output_type": "stream",
     "text": [
      "\n",
      "---Runden und Konvertieren---\n",
      "h = 12/7 = 1.7142857142857142 DT von h: <class 'float'>\n",
      "hr = round(h,3) = 1.714 DT von hr: <class 'float'>\n",
      "hrr = round(h) = 2 DT von hrr: <class 'int'>\n",
      "hk = int(h) = 1 DT von hk: <class 'int'>\n",
      "\n",
      "hn = -h = -1.7142857142857142 DT von hn: <class 'float'>\n",
      "hnr = round(hn,3) = -1.714 DT von hnr: <class 'float'>\n",
      "hnrr = round(hn) = -2 DT von hnrr: <class 'int'>\n",
      "hnk = int(hn) = -1 DT von hnk: <class 'int'>\n"
     ]
    }
   ],
   "source": [
    "#Unterschied Runden und Konvertieren\n",
    "print(\"\\n---Runden und Konvertieren---\");\n",
    "hr = round(h,3);\n",
    "hrr = round(h);\n",
    "hk = int(h);\n",
    "#negative Zahl h\n",
    "hn = -h;\n",
    "hnr = round(hn,3);\n",
    "hnrr = round(hn);\n",
    "hnk = int(hn);\n",
    "#positive Zahl h\n",
    "print(\"h = 12/7 =\",h,\"DT von h:\",type(h));\n",
    "print(\"hr = round(h,3) =\",hr,\"DT von hr:\",type(hr));\n",
    "print(\"hrr = round(h) =\",hrr,\"DT von hrr:\",type(hrr));\n",
    "print(\"hk = int(h) =\",hk,\"DT von hk:\",type(hk));\n",
    "#negative Zahl h\n",
    "print(\"\\nhn = -h =\",hn,\"DT von hn:\",type(hn));\n",
    "print(\"hnr = round(hn,3) =\",hnr,\"DT von hnr:\",type(hnr));\n",
    "print(\"hnrr = round(hn) =\",hnrr,\"DT von hnrr:\",type(hnrr));\n",
    "print(\"hnk = int(hn) =\",hnk,\"DT von hnk:\",type(hnk));"
   ]
  },
  {
   "cell_type": "code",
   "execution_count": 7,
   "id": "b88b2a62-2668-44a8-8a7c-e75408f3fc3b",
   "metadata": {},
   "outputs": [
    {
     "name": "stdout",
     "output_type": "stream",
     "text": [
      "\n",
      "---mathematische Funktionen---\n",
      "Winkel: w = 30 Grad, Bogenmaß = 0.5235987755982988\n",
      "sin(w) =  0.49999999999999994\n",
      "cos(w) =  0.8660254037844387\n",
      "tan(w) =  0.5773502691896257\n"
     ]
    }
   ],
   "source": [
    "#Mathematische Funktionen\n",
    "print(\"\\n---mathematische Funktionen---\");\n",
    "w = 30; #Einheit: Grad\n",
    "wbm = math.radians(w); #Einheit: Bogenmaß\n",
    "print(\"Winkel: w = 30 Grad, Bogenmaß =\",wbm);\n",
    "print(\"sin(w) = \",math.sin(wbm));\n",
    "print(\"cos(w) = \",math.cos(wbm));\n",
    "print(\"tan(w) = \",math.tan(wbm));"
   ]
  }
 ],
 "metadata": {
  "kernelspec": {
   "display_name": "Python 3 (ipykernel)",
   "language": "python",
   "name": "python3"
  },
  "language_info": {
   "codemirror_mode": {
    "name": "ipython",
    "version": 3
   },
   "file_extension": ".py",
   "mimetype": "text/x-python",
   "name": "python",
   "nbconvert_exporter": "python",
   "pygments_lexer": "ipython3",
   "version": "3.10.4"
  }
 },
 "nbformat": 4,
 "nbformat_minor": 5
}
