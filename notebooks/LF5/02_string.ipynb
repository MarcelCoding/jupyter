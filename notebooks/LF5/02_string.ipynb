{
 "cells": [
  {
   "cell_type": "markdown",
   "id": "52fde1fd-d59c-4419-9b11-ad0eb9d956da",
   "metadata": {
    "tags": []
   },
   "source": [
    "### Zeichenketten-Datentypen"
   ]
  },
  {
   "cell_type": "markdown",
   "id": "f4077b8e-ac37-4d6e-b206-735d18f63292",
   "metadata": {
    "tags": []
   },
   "source": [
    "#### Basics"
   ]
  },
  {
   "cell_type": "code",
   "execution_count": 7,
   "id": "b54488b0-835f-45a4-b049-7c112114b773",
   "metadata": {},
   "outputs": [
    {
     "name": "stdout",
     "output_type": "stream",
     "text": [
      "Bitte Zeichen eingeben:\n"
     ]
    },
    {
     "name": "stdin",
     "output_type": "stream",
     "text": [
      " 412412\n"
     ]
    },
    {
     "name": "stdout",
     "output_type": "stream",
     "text": [
      "z1: Hallo Informatiker\n",
      "z2: Auch ich bin eine Zeichenkette\n",
      "z3: Diese Zeichenkette\n",
      "        steht in \n",
      "        mehreren Zeilen\n",
      "z4: So speichert man \"doppelte Hochkommata\"\n",
      "z5: 412412\n",
      "DT von z5: <class 'str'>\n"
     ]
    }
   ],
   "source": [
    "z1 = \"Hallo Informatiker\";\n",
    "z2 = 'Auch ich bin eine Zeichenkette';\n",
    "z3 = \"\"\"Diese Zeichenkette\n",
    "        steht in \n",
    "        mehreren Zeilen\"\"\";\n",
    "z4 = 'So speichert man \"doppelte Hochkommata\"';\n",
    "\n",
    "print(\"Bitte Zeichen eingeben:\");\n",
    "z5 = input();\n",
    "\n",
    "print(\"z1:\", z1);\n",
    "print(\"z2:\", z2);\n",
    "print(\"z3:\", z3);\n",
    "print(\"z4:\", z4);\n",
    "print(\"z5:\", z5);\n",
    "print(\"DT von z5:\", type(z5));"
   ]
  },
  {
   "cell_type": "markdown",
   "id": "ee433a18-24c8-4ae9-9fe3-4264ea6fb60b",
   "metadata": {
    "tags": []
   },
   "source": [
    "#### Operatoren"
   ]
  },
  {
   "cell_type": "code",
   "execution_count": 4,
   "id": "a5e2ac15-2dfe-494b-a37a-3ac5efcb22ec",
   "metadata": {},
   "outputs": [
    {
     "name": "stdout",
     "output_type": "stream",
     "text": [
      "Teil 1, Teil 2\n",
      "*****-oooo--oooo--oooo-*****\n"
     ]
    }
   ],
   "source": [
    "# Operatoren + und *\n",
    "z6 = \"Teil 1\";\n",
    "z7 = \"Teil 2\";\n",
    "z8 = \"-oooo-\";\n",
    "z9 = \"*\";\n",
    "\n",
    "zgesammt = z6 + \", \" + z7\n",
    "zlinie = z9 * 5 + z8 * 3 + z9 * 5\n",
    "\n",
    "print(zgesammt)\n",
    "print(zlinie)"
   ]
  },
  {
   "cell_type": "code",
   "execution_count": 10,
   "id": "7f496ec6-abe5-4023-926e-90abf77a0ecd",
   "metadata": {},
   "outputs": [
    {
     "name": "stdout",
     "output_type": "stream",
     "text": [
      "\"F\" ist nicht in Vlorian enthalten.\n"
     ]
    }
   ],
   "source": [
    "name = \"Vlorian\";\n",
    "if \"F\" in name:\n",
    "    print('\"F\" ist in', name, \"enthalten.\");\n",
    "else:\n",
    "    print('\"F\" ist nicht in', name, \"enthalten.\")"
   ]
  }
 ],
 "metadata": {
  "kernelspec": {
   "display_name": "Python 3 (ipykernel)",
   "language": "python",
   "name": "python3"
  },
  "language_info": {
   "codemirror_mode": {
    "name": "ipython",
    "version": 3
   },
   "file_extension": ".py",
   "mimetype": "text/x-python",
   "name": "python",
   "nbconvert_exporter": "python",
   "pygments_lexer": "ipython3",
   "version": "3.10.8"
  }
 },
 "nbformat": 4,
 "nbformat_minor": 5
}
