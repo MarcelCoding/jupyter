{
 "cells": [
  {
   "cell_type": "code",
   "execution_count": 13,
   "id": "3abfa7f7-772c-4f6e-8269-dbcdfe032598",
   "metadata": {},
   "outputs": [
    {
     "name": "stdout",
     "output_type": "stream",
     "text": [
      "False\n",
      "True\n",
      "False\n",
      "True\n"
     ]
    }
   ],
   "source": [
    "def leapyear(year):\n",
    "    if year < 1582:\n",
    "        return False;\n",
    "    \n",
    "    if year % 4 == 0 and year % 100 != 0:\n",
    "        return True;\n",
    "    if year % 100 == 0 and year % 400 != 0:\n",
    "        return False;\n",
    "    if year % 400 == 0:\n",
    "        return True;\n",
    "    return False;\n",
    "\n",
    "print(leapyear(   4)); # False\n",
    "print(leapyear(2008)); # True\n",
    "print(leapyear(2100)); # False\n",
    "print(leapyear(2000)); # True"
   ]
  },
  {
   "cell_type": "code",
   "execution_count": 24,
   "id": "8d6cee87-6b76-4e88-ba81-305dc48b58eb",
   "metadata": {},
   "outputs": [
    {
     "name": "stdout",
     "output_type": "stream",
     "text": [
      "39\n",
      "245\n",
      "246\n"
     ]
    }
   ],
   "source": [
    "months = [31, 28, 31, 30, 31, 30, 31, 31, 30, 31, 30, 31];\n",
    "\n",
    "def dayofyear(date):\n",
    "    [day, month, year] = map(int, date.split('.', 3))\n",
    "\n",
    "    d = 0;\n",
    "    for i in range(month - 1):\n",
    "        d += months[i];\n",
    "\n",
    "    if leapyear(year):\n",
    "        d += 1;\n",
    "\n",
    "    return d + day;\n",
    "\n",
    "print(dayofyear(\"8.2.1998\")); # 39\n",
    "print(dayofyear(\"2.9.2022\")); # 245\n",
    "print(dayofyear(\"2.9.2000\")); # 246"
   ]
  },
  {
   "cell_type": "code",
   "execution_count": null,
   "id": "3ae70a26-da93-450a-b91a-a8f290a405d3",
   "metadata": {},
   "outputs": [],
   "source": []
  }
 ],
 "metadata": {
  "kernelspec": {
   "display_name": "Python 3 (ipykernel)",
   "language": "python",
   "name": "python3"
  },
  "language_info": {
   "codemirror_mode": {
    "name": "ipython",
    "version": 3
   },
   "file_extension": ".py",
   "mimetype": "text/x-python",
   "name": "python",
   "nbconvert_exporter": "python",
   "pygments_lexer": "ipython3",
   "version": "3.10.8"
  }
 },
 "nbformat": 4,
 "nbformat_minor": 5
}
