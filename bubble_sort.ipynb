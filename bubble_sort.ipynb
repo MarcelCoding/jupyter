{
 "cells": [
  {
   "cell_type": "code",
   "execution_count": 9,
   "id": "4e65a259-5fff-49f1-bde2-b5a6f0ac1cac",
   "metadata": {},
   "outputs": [
    {
     "name": "stdout",
     "output_type": "stream",
     "text": [
      "[2, 5, 5, 5, 5, 5, 34, 43, 43, 43, 53, 543, 543, 5325, 43543]\n"
     ]
    }
   ],
   "source": [
    "items = [5325, 5, 43, 5, 43, 543, 53, 543, 5, 34, 2, 5, 43, 5, 43543]\n",
    "changed = True;\n",
    "\n",
    "while changed:\n",
    "    changed = False\n",
    "    for i in range(0, len(items)-1):\n",
    "        if items[i] > items[i+1]:\n",
    "            x = items[i];\n",
    "            items[i] = items[i+1];\n",
    "            items[i+1] = x;\n",
    "            changed = True\n",
    "\n",
    "print(items)"
   ]
  }
 ],
 "metadata": {
  "kernelspec": {
   "display_name": "Python 3 (ipykernel)",
   "language": "python",
   "name": "python3"
  },
  "language_info": {
   "codemirror_mode": {
    "name": "ipython",
    "version": 3
   },
   "file_extension": ".py",
   "mimetype": "text/x-python",
   "name": "python",
   "nbconvert_exporter": "python",
   "pygments_lexer": "ipython3",
   "version": "3.10.4"
  }
 },
 "nbformat": 4,
 "nbformat_minor": 5
}
